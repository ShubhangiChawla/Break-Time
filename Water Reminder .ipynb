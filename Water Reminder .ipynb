{
 "cells": [
  {
   "cell_type": "code",
   "execution_count": 1,
   "id": "1f8f421f",
   "metadata": {},
   "outputs": [],
   "source": [
    "#pip install plyer"
   ]
  },
  {
   "cell_type": "code",
   "execution_count": 2,
   "id": "5bf6a8d0",
   "metadata": {},
   "outputs": [],
   "source": [
    "from plyer import notification\n",
    "import time"
   ]
  },
  {
   "cell_type": "code",
   "execution_count": null,
   "id": "b1f7acb3",
   "metadata": {},
   "outputs": [],
   "source": [
    "def show_notif():\n",
    "    notification.notify(\n",
    "        title=\"Time to take a break\",\n",
    "        message=\"Maintain optimal hydration for peak performance.Drink water!\",\n",
    "        timeout=20\n",
    "    )\n",
    "    \n",
    "def main():\n",
    "    while True:\n",
    "        show_notif()\n",
    "        time.sleep(3600)\n",
    "        \n",
    "if __name__==\"__main__\":\n",
    "    main()"
   ]
  },
  {
   "cell_type": "code",
   "execution_count": null,
   "id": "48026458",
   "metadata": {},
   "outputs": [],
   "source": []
  }
 ],
 "metadata": {
  "kernelspec": {
   "display_name": "Python 3 (ipykernel)",
   "language": "python",
   "name": "python3"
  },
  "language_info": {
   "codemirror_mode": {
    "name": "ipython",
    "version": 3
   },
   "file_extension": ".py",
   "mimetype": "text/x-python",
   "name": "python",
   "nbconvert_exporter": "python",
   "pygments_lexer": "ipython3",
   "version": "3.11.4"
  }
 },
 "nbformat": 4,
 "nbformat_minor": 5
}
